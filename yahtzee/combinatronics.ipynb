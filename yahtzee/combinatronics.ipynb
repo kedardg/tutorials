{
 "cells": [
  {
   "cell_type": "code",
   "execution_count": 2,
   "metadata": {},
   "outputs": [],
   "source": [
    "from dice import Dice\n",
    "import pandas as pd\n",
    "import matplotlib.pyplot as plt\n",
    "%matplotlib inline  "
   ]
  },
  {
   "cell_type": "markdown",
   "metadata": {},
   "source": [
    "### If you roll a die three times, what is the probability that you will get at least one six?\n",
    "inverse of not getting any 6 for 3 times: 1 - (5/6)^3\n",
    "\n",
    "or Bernoulli trial: 𝑋∼Bin(3,1/6)"
   ]
  },
  {
   "cell_type": "code",
   "execution_count": 45,
   "metadata": {},
   "outputs": [
    {
     "name": "stdout",
     "output_type": "stream",
     "text": [
      "in 3 throws we saw 413 sixes (0.413 probability)\n"
     ]
    }
   ],
   "source": [
    "dice_faces = 6\n",
    "dices = 1\n",
    "throws = 3\n",
    "epochs = 1000\n",
    "c = 0\n",
    "for i in range(0, epochs):\n",
    "    t = []\n",
    "    for throw in range(throws):\n",
    "        d = Dice(throw, dice_faces)\n",
    "        t.append(d.roll())\n",
    "    if 6 in t: c += 1\n",
    "print('in {} throws we saw an average of {} sixes.'.format(throws, c/epochs))"
   ]
  },
  {
   "cell_type": "code",
   "execution_count": 42,
   "metadata": {},
   "outputs": [
    {
     "data": {
      "text/plain": [
       "889"
      ]
     },
     "execution_count": 42,
     "metadata": {},
     "output_type": "execute_result"
    }
   ],
   "source": [
    "c"
   ]
  },
  {
   "cell_type": "markdown",
   "metadata": {},
   "source": [
    "### Probability of rolling 5 equal numbers with 5 dices\n",
    " (1/6) x (1/6) x (1/6) x (1/6) x (1/6) * 6 = 0.0007"
   ]
  },
  {
   "cell_type": "code",
   "execution_count": 84,
   "metadata": {},
   "outputs": [
    {
     "name": "stdout",
     "output_type": "stream",
     "text": [
      "dices were equal in 50000 attempts: 42 (0.00084 probability)\n"
     ]
    }
   ],
   "source": [
    "dice_faces = 6\n",
    "dices = 5\n",
    "epochs = 50000\n",
    "\n",
    "results = pd.DataFrame(index=range(0, epochs), columns=list(range(1,dices+1)))\n",
    "# loop over tries\n",
    "for epoch, row in results.iterrows():\n",
    "    # roll 5 dice\n",
    "    for dice in results.columns:\n",
    "        d = Dice(dice, dice_faces)\n",
    "        results.loc[epoch, dice] = d.roll()\n",
    "        \n",
    "# check if all the row is equal to first number\n",
    "equals = results.nunique(axis = 1).eq(1).sum()\n",
    "print('dices were equal in {} attempts: {} ({} probability)'.format(epochs, equals, equals/epochs))"
   ]
  },
  {
   "cell_type": "markdown",
   "metadata": {},
   "source": [
    "### Probability of rolling 5 equal numbers with 5 dices in 2 attampts"
   ]
  },
  {
   "cell_type": "code",
   "execution_count": 86,
   "metadata": {},
   "outputs": [
    {
     "name": "stdout",
     "output_type": "stream",
     "text": [
      "on average dices were equal at least once in 2 throws: 0.0014\n"
     ]
    }
   ],
   "source": [
    "dice_faces = 6\n",
    "dices = 5\n",
    "throws = 2\n",
    "epochs = 50000\n",
    "\n",
    "indexes = [[i for i in range(0, epochs)], [j for j in range(0, throws)]]\n",
    "index = pd.MultiIndex.from_product(indexes, names=['epoch', 'throw'])\n",
    "results = pd.DataFrame(index=index, columns=['yhatzee'])\n",
    "for ix, row in results.iterrows():\n",
    "    e = ix[0]\n",
    "    t = ix[1]\n",
    "    # loop over throws\n",
    "    for throw in range(0, throws):\n",
    "        # roll 5 dice\n",
    "        rolls = []\n",
    "        for dice in list(range(1,dices+1)):\n",
    "            d = Dice(dice, dice_faces)\n",
    "            rolls.append(d.roll())\n",
    "        #print('epoch:{}, throw:{}, roll:{}'.format(e, t, rolls))\n",
    "        # use set to check if all dices equal\n",
    "        if len(set(rolls))==1:\n",
    "            results.loc[(e, t), 'yhatzee'] = 1\n",
    "        else:\n",
    "            results.loc[(e, t), 'yhatzee'] = 0\n",
    "            \n",
    "attempts_results = results.groupby(level=[0]).sum()\n",
    "p = len(attempts_results[attempts_results.yhatzee == 1])/len(attempts_results)\n",
    "print('on average dices were equal at least once in {} throws: {}'.format(throws, p))"
   ]
  },
  {
   "cell_type": "markdown",
   "metadata": {},
   "source": [
    "### Probability of getting Yhatzee in 2 throws?"
   ]
  },
  {
   "cell_type": "code",
   "execution_count": 31,
   "metadata": {},
   "outputs": [
    {
     "data": {
      "text/plain": [
       "0.013"
      ]
     },
     "execution_count": 31,
     "metadata": {},
     "output_type": "execute_result"
    }
   ],
   "source": [
    "dice_faces = 6\n",
    "dices = 5\n",
    "epochs = 10000\n",
    "\n",
    "yhatzee = []\n",
    "for e in range(0, epochs):\n",
    "    rolls = []\n",
    "    for d in range(0, dices):\n",
    "        d = Dice(d, dice_faces)\n",
    "        rolls.append(d.roll())\n",
    "    if len(set(rolls))==1:\n",
    "        yhatzee.append(1)\n",
    "    else:\n",
    "        most_common = max(rolls, key = rolls.count) # find most common\n",
    "        for iterator in range(0, dices):\n",
    "            if rolls[iterator] != most_common:\n",
    "                d = Dice(iterator, dice_faces)\n",
    "                rolls[iterator] = d.roll()\n",
    "        if len(set(rolls))==1: \n",
    "            yhatzee.append(1)\n",
    "        else:\n",
    "            yhatzee.append(0)\n",
    "\n",
    "sum(yhatzee) / len(yhatzee)"
   ]
  },
  {
   "cell_type": "code",
   "execution_count": null,
   "metadata": {},
   "outputs": [],
   "source": []
  }
 ],
 "metadata": {
  "kernelspec": {
   "display_name": "Python 3",
   "language": "python",
   "name": "python3"
  },
  "language_info": {
   "codemirror_mode": {
    "name": "ipython",
    "version": 3
   },
   "file_extension": ".py",
   "mimetype": "text/x-python",
   "name": "python",
   "nbconvert_exporter": "python",
   "pygments_lexer": "ipython3",
   "version": "3.6.5"
  }
 },
 "nbformat": 4,
 "nbformat_minor": 2
}
